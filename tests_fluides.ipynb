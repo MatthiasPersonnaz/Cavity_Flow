{
 "cells": [
  {
   "cell_type": "code",
   "execution_count": 125,
   "metadata": {},
   "outputs": [],
   "source": [
    "import numpy as np\n",
    "import numpy.linalg as alg\n",
    "import matplotlib\n",
    "import matplotlib.pyplot as plt"
   ]
  },
  {
   "cell_type": "code",
   "execution_count": 109,
   "metadata": {},
   "outputs": [],
   "source": [
    "imax = 4\n",
    "jmax = 4\n",
    "a = np.zeros(shape=(imax,jmax),dtype=int)\n",
    "b = np.random.rand(imax,jmax)"
   ]
  },
  {
   "cell_type": "code",
   "execution_count": 110,
   "metadata": {},
   "outputs": [
    {
     "data": {
      "text/plain": [
       "array([[0.50997919, 0.58060317, 0.11651001],\n",
       "       [0.55842123, 0.53416341, 0.41993814],\n",
       "       [0.20989005, 0.08734576, 0.67024235]])"
      ]
     },
     "execution_count": 110,
     "metadata": {},
     "output_type": "execute_result"
    }
   ],
   "source": [
    "b"
   ]
  },
  {
   "cell_type": "code",
   "execution_count": 111,
   "metadata": {},
   "outputs": [],
   "source": [
    "def carre2vec(i,j):\n",
    "    return jmax*(j-1)+i-1"
   ]
  },
  {
   "cell_type": "code",
   "execution_count": 112,
   "metadata": {},
   "outputs": [
    {
     "data": {
      "text/plain": [
       "8"
      ]
     },
     "execution_count": 112,
     "metadata": {},
     "output_type": "execute_result"
    }
   ],
   "source": [
    "carre2vec(imax,jmax)"
   ]
  },
  {
   "cell_type": "code",
   "execution_count": 204,
   "metadata": {},
   "outputs": [],
   "source": [
    "imax = 10\n",
    "jmax = 10\n",
    "s = imax*jmax\n",
    "dx = .1\n",
    "dy = .05\n",
    "invdx2 = 1/dx**2\n",
    "invdy2 = 1/dy**2"
   ]
  },
  {
   "cell_type": "code",
   "execution_count": 205,
   "metadata": {},
   "outputs": [],
   "source": [
    "S = np.zeros(shape=(s,s),dtype=float)\n",
    "\n",
    "for i in range(1,imax+1): # jusqu'à jmax\n",
    "    for j in range(1,jmax+1):\n",
    "        k = carre2vec(i,j)\n",
    "        S[k][k] += (-2*invdx2-2*invdy2)\n",
    "        if j<jmax:\n",
    "            S[k][carre2vec(i,j+1)] += invdy2\n",
    "        if j>1:\n",
    "            S[k][carre2vec(i,j-1)] += invdy2\n",
    "        if i<imax:\n",
    "            S[k][carre2vec(i+1,j)] += invdx2\n",
    "        if i>1:\n",
    "            S[k][carre2vec(i-1,j)] += invdx2"
   ]
  },
  {
   "cell_type": "code",
   "execution_count": 206,
   "metadata": {},
   "outputs": [
    {
     "data": {
      "image/png": "[encoded data removed]",
      "text/plain": [
       "<Figure size 432x288 with 1 Axes>"
      ]
     },
     "metadata": {
      "needs_background": "light"
     },
     "output_type": "display_data"
    }
   ],
   "source": [
    "fig, ax = plt.subplots() # ne pas le faire si la matrice est trop grande on voit rien\n",
    "im = ax.imshow(S)"
   ]
  },
  {
   "cell_type": "code",
   "execution_count": 207,
   "metadata": {},
   "outputs": [
    {
     "data": {
      "text/plain": [
       "array([[-1.31002562e-03, -2.47931657e-04, -6.94838351e-05, ...,\n",
       "        -1.46356088e-06, -7.89913166e-07, -3.43744373e-07],\n",
       "       [-2.47931657e-04, -1.37950946e-03, -2.74176235e-04, ...,\n",
       "        -3.32090172e-06, -1.80730525e-06, -7.89913166e-07],\n",
       "       [-6.94838351e-05, -2.74176235e-04, -1.39137830e-03, ...,\n",
       "        -6.00672824e-06, -3.32090172e-06, -1.46356088e-06],\n",
       "       ...,\n",
       "       [-1.46356088e-06, -3.32090172e-06, -6.00672824e-06, ...,\n",
       "        -1.39137830e-03, -2.74176235e-04, -6.94838351e-05],\n",
       "       [-7.89913166e-07, -1.80730525e-06, -3.32090172e-06, ...,\n",
       "        -2.74176235e-04, -1.37950946e-03, -2.47931657e-04],\n",
       "       [-3.43744373e-07, -7.89913166e-07, -1.46356088e-06, ...,\n",
       "        -6.94838351e-05, -2.47931657e-04, -1.31002562e-03]])"
      ]
     },
     "execution_count": 207,
     "metadata": {},
     "output_type": "execute_result"
    }
   ],
   "source": [
    "alg.inv(S) # ne pas le faire si la matice est trop grande !!"
   ]
  },
  {
   "cell_type": "code",
   "execution_count": 208,
   "metadata": {},
   "outputs": [
    {
     "data": {
      "text/plain": [
       "5.940334138357739e-15"
      ]
     },
     "execution_count": 208,
     "metadata": {},
     "output_type": "execute_result"
    }
   ],
   "source": [
    "alg.norm(S.dot(alg.inv(S)) - np.identity(imax*jmax))"
   ]
  },
  {
   "cell_type": "code",
   "execution_count": 213,
   "metadata": {},
   "outputs": [],
   "source": [
    "b = np.random.rand(s,)"
   ]
  },
  {
   "cell_type": "code",
   "execution_count": 214,
   "metadata": {},
   "outputs": [
    {
     "data": {
      "text/plain": [
       "array([0.95994414, 0.42108356, 0.89068668, 0.22610755, 0.34146405,\n",
       "       0.4141818 , 0.68089581, 0.34777701, 0.43595755, 0.39178144,\n",
       "       0.39888761, 0.65953202, 0.99292391, 0.79969423, 0.5832441 ,\n",
       "       0.00723256, 0.01434454, 0.03228601, 0.20852098, 0.77730005,\n",
       "       0.56677404, 0.90886126, 0.19414966, 0.9146889 , 0.43333164,\n",
       "       0.97930845, 0.81962957, 0.7005988 , 0.67992441, 0.33184168,\n",
       "       0.69009914, 0.8628571 , 0.12649242, 0.82418711, 0.77318152,\n",
       "       0.33215241, 0.68445743, 0.97039215, 0.05024956, 0.35664261,\n",
       "       0.40545555, 0.77845199, 0.18088248, 0.97961565, 0.23749823,\n",
       "       0.69821707, 0.59646464, 0.58740488, 0.30570032, 0.73982597,\n",
       "       0.4156446 , 0.71558329, 0.35798454, 0.86830184, 0.51800299,\n",
       "       0.87686581, 0.97716929, 0.99543925, 0.00347552, 0.08174981,\n",
       "       0.50601697, 0.04738513, 0.67175371, 0.89506589, 0.07184149,\n",
       "       0.37393241, 0.41365312, 0.91199228, 0.94102571, 0.0396654 ,\n",
       "       0.18524539, 0.30651588, 0.50100481, 0.49905858, 0.29585388,\n",
       "       0.06419432, 0.19455039, 0.63099261, 0.16716886, 0.40701035,\n",
       "       0.40901632, 0.89302712, 0.1404187 , 0.68849481, 0.76679883,\n",
       "       0.76978113, 0.0586637 , 0.82254999, 0.17552792, 0.772187  ,\n",
       "       0.73586332, 0.22283277, 0.24989385, 0.21949307, 0.1135432 ,\n",
       "       0.91332419, 0.28492138, 0.5356098 , 0.99829205, 0.34069601])"
      ]
     },
     "execution_count": 214,
     "metadata": {},
     "output_type": "execute_result"
    }
   ],
   "source": [
    "b"
   ]
  },
  {
   "cell_type": "code",
   "execution_count": 215,
   "metadata": {},
   "outputs": [
    {
     "data": {
      "text/plain": [
       "array([[-1000.,   100.,     0., ...,     0.,     0.,     0.],\n",
       "       [  100., -1000.,   100., ...,     0.,     0.,     0.],\n",
       "       [    0.,   100., -1000., ...,     0.,     0.,     0.],\n",
       "       ...,\n",
       "       [    0.,     0.,     0., ..., -1000.,   100.,     0.],\n",
       "       [    0.,     0.,     0., ...,   100., -1000.,   100.],\n",
       "       [    0.,     0.,     0., ...,     0.,   100., -1000.]])"
      ]
     },
     "execution_count": 215,
     "metadata": {},
     "output_type": "execute_result"
    }
   ],
   "source": [
    "S"
   ]
  },
  {
   "cell_type": "code",
   "execution_count": 216,
   "metadata": {},
   "outputs": [
    {
     "data": {
      "text/plain": [
       "array([-758.28074019,   27.79232884, -428.79800973,  216.98521064,\n",
       "        -44.13747087, -309.05279545, -598.96211659, -223.17726917,\n",
       "       -278.59331316,  -37.26566613,  277.75286546,   11.62706084,\n",
       "       -413.06674409, -185.75884416, -192.63314571,  609.9224098 ,\n",
       "        589.81747165,  409.35086577,  318.79041547, -466.99870427,\n",
       "        -40.29321397, -223.81324111,  435.97188388, -202.38823804,\n",
       "        298.63834422, -718.25834714, -372.11805471, -149.57214144,\n",
       "       -473.17215042,  189.72782636, -214.9215998 , -106.27264269,\n",
       "        192.22485786,   23.50210642, -389.21562081,  484.62169238,\n",
       "         12.23471055, -381.71997814,  476.70380546,   77.04940793,\n",
       "        114.68714855,  -88.44202975,  188.71506352, -260.7820034 ,\n",
       "        446.75885096, -131.21349128,  196.74824262,  289.14417746,\n",
       "       -151.48720126, -533.89897064,   20.50274114, -307.88552741,\n",
       "        141.45845331,  -30.83046614, -219.75034191, -298.48879357,\n",
       "       -385.89167991, -297.61590283,  602.93379737,  230.39428724,\n",
       "       -260.92246654,  479.23160512, -233.91287139, -273.76220047,\n",
       "        380.60108763,   51.04110597,  183.62721997, -125.95165215,\n",
       "       -777.60219344,  249.94123696,  211.41951482,  138.27404009,\n",
       "        -95.57839741,  214.05156161,   95.92754208,  442.33151918,\n",
       "         63.89503299,   98.99622087,  383.25289318,  -65.55250786,\n",
       "         48.72987745, -626.34415596,  318.09295378, -310.35239225,\n",
       "       -457.21240784, -296.22746962,  292.35811753, -332.48986493,\n",
       "        450.13014047, -455.5516636 , -549.973514  ,  232.953793  ,\n",
       "       -149.49378347,   92.24856065,  306.45806112, -565.56528131,\n",
       "       -116.56249726,  -78.26846222, -840.45029831,   68.00799785])"
      ]
     },
     "execution_count": 216,
     "metadata": {},
     "output_type": "execute_result"
    }
   ],
   "source": [
    "np.matmul(S,b)"
   ]
  },
  {
   "cell_type": "code",
   "execution_count": 217,
   "metadata": {},
   "outputs": [],
   "source": [
    "S[:,:] = 0"
   ]
  },
  {
   "cell_type": "code",
   "execution_count": 199,
   "metadata": {},
   "outputs": [
    {
     "data": {
      "text/plain": [
       "array([[0., 0., 0., 0.],\n",
       "       [0., 0., 0., 0.],\n",
       "       [0., 0., 0., 0.],\n",
       "       [0., 0., 0., 0.]])"
      ]
     },
     "execution_count": 199,
     "metadata": {},
     "output_type": "execute_result"
    }
   ],
   "source": [
    "S"
   ]
  },
  {
   "cell_type": "code",
   "execution_count": null,
   "metadata": {},
   "outputs": [],
   "source": []
  },
  {
   "cell_type": "code",
   "execution_count": null,
   "metadata": {},
   "outputs": [],
   "source": []
  }
 ],
 "metadata": {
  "kernelspec": {
   "display_name": "Python 3",
   "language": "python",
   "name": "python3"
  },
  "language_info": {
   "codemirror_mode": {
    "name": "ipython",
    "version": 3
   },
   "file_extension": ".py",
   "mimetype": "text/x-python",
   "name": "python",
   "nbconvert_exporter": "python",
   "pygments_lexer": "ipython3",
   "version": "3.8.3"
  }
 },
 "nbformat": 4,
 "nbformat_minor": 4
}
